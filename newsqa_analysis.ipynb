{
 "cells": [
  {
   "cell_type": "code",
   "execution_count": 1,
   "metadata": {},
   "outputs": [],
   "source": [
    "import json\n",
    "import numpy as np\n",
    "from matplotlib import pyplot as plt\n",
    "import os, sys\n",
    "from transformers import BertTokenizerFast\n",
    "tokenizer = BertTokenizerFast.from_pretrained(\"bert-base-uncased\")"
   ]
  },
  {
   "cell_type": "code",
   "execution_count": 2,
   "metadata": {},
   "outputs": [],
   "source": [
    "ds = json.load(open(\"data/newsqa/combined-newsqa-data-v1.json\"))"
   ]
  },
  {
   "cell_type": "code",
   "execution_count": 3,
   "metadata": {},
   "outputs": [],
   "source": [
    "ds = ds['data']"
   ]
  },
  {
   "cell_type": "code",
   "execution_count": 4,
   "metadata": {},
   "outputs": [],
   "source": [
    "train = [_ for _ in ds if _['type'] == 'train']\n",
    "dev = [_ for _ in ds if _['type'] == 'dev']\n",
    "test = [_ for _ in ds if _['type'] == 'test']"
   ]
  },
  {
   "cell_type": "code",
   "execution_count": 5,
   "metadata": {},
   "outputs": [
    {
     "data": {
      "text/plain": [
       "dict_keys(['text', 'type', 'questions', 'storyId'])"
      ]
     },
     "execution_count": 5,
     "metadata": {},
     "output_type": "execute_result"
    }
   ],
   "source": [
    "ds[0].keys()"
   ]
  },
  {
   "cell_type": "code",
   "execution_count": 6,
   "metadata": {},
   "outputs": [
    {
     "name": "stdout",
     "output_type": "stream",
     "text": [
      "9\n",
      "dict_keys(['isQuestionBad', 'consensus', 'validatedAnswers', 'answers', 'q', 'isAnswerAbsent'])\n",
      "train\n"
     ]
    }
   ],
   "source": [
    "print(len(ds[0]['questions']))\n",
    "print( ds[0]['questions'][0].keys() )\n",
    "print(ds[0]['type'])"
   ]
  },
  {
   "cell_type": "code",
   "execution_count": 7,
   "metadata": {},
   "outputs": [
    {
     "name": "stdout",
     "output_type": "stream",
     "text": [
      "12744\n"
     ]
    }
   ],
   "source": [
    "print(len(ds))"
   ]
  },
  {
   "cell_type": "code",
   "execution_count": 8,
   "metadata": {},
   "outputs": [
    {
     "data": {
      "text/plain": [
       "{'s': 294, 'e': 297}"
      ]
     },
     "execution_count": 8,
     "metadata": {},
     "output_type": "execute_result"
    }
   ],
   "source": [
    "train[0]['questions'][0]['consensus']"
   ]
  },
  {
   "cell_type": "code",
   "execution_count": 9,
   "metadata": {},
   "outputs": [
    {
     "name": "stdout",
     "output_type": "stream",
     "text": [
      "11469 638 637\n"
     ]
    }
   ],
   "source": [
    "print(len(train), len(dev), len(test))"
   ]
  },
  {
   "cell_type": "code",
   "execution_count": 10,
   "metadata": {},
   "outputs": [],
   "source": [
    "# qa items\n",
    "def get_consus_stage_1_questions(ds):\n",
    "    consensus_qa_items_stage_1 = {'id':[], 'context':[], 'question':[], 'answers':[]}\n",
    "    consensus_after_validate = {'id':[], 'context':[], 'question':[], 'answers':[]} # _  for _ in validate_questions if len(_['validatedAnswers']) <= 2] # 'consensus' in _]\n",
    "    no_consensus_after_validate = {'id':[], 'context':[], 'question':[], 'answers':[]} #_  for _ in validate_questions if len(_['validatedAnswers']) > 2]     \n",
    "    \n",
    "    for item in ds:\n",
    "        text = item['text']\n",
    "        type = item['type']\n",
    "        questions = item['questions']\n",
    "        storyId = item['storyId']\n",
    "        for qidx, question in enumerate(questions):\n",
    "            qid = '#'.join([storyId, str(qidx)])\n",
    "            if 'validatedAnswers' not in question:\n",
    "                # stage 1\n",
    "                cons = question['consensus']\n",
    "                if 's' in cons:\n",
    "                    # consensused on answer\n",
    "                    answers = {\n",
    "                        'answer_start': [cons['s']],\n",
    "                        'text': [ text[cons['s']: cons['e'] ] ],\n",
    "                    }\n",
    "                else:\n",
    "                    answers = {\n",
    "                        'answer_start': [],\n",
    "                        'text': [],\n",
    "                    }\n",
    "                consensus_qa_items_stage_1['id'].append(qid)\n",
    "                consensus_qa_items_stage_1['context'].append(text)\n",
    "                consensus_qa_items_stage_1['question'].append( question['q'])\n",
    "                consensus_qa_items_stage_1['answers'].append(answers)\n",
    "            else:\n",
    "                # stage 1\n",
    "                cons = question['consensus']\n",
    "                if 's' in cons:\n",
    "                    # consensused on answer\n",
    "                    answers = {\n",
    "                        'answer_start': [cons['s']],\n",
    "                        'text': [ text[cons['s']: cons['e'] ] ],\n",
    "                    }\n",
    "                else:\n",
    "                    answers = {\n",
    "                        'answer_start': [],\n",
    "                        'text': [],\n",
    "                    }\n",
    "                if len(question['validatedAnswers']) <= 2:                    \n",
    "                    # consensus_after_validate.append(\n",
    "                    #     {'id': qid, 'context': text, 'question': question['q'], 'answers': answers, \n",
    "                    #     'annotations':question['answers'], 'validatedAnswers': question['validatedAnswers']}\n",
    "                    # )\n",
    "                    consensus_after_validate['id'].append(qid)\n",
    "                    consensus_after_validate['context'].append(text)\n",
    "                    consensus_after_validate['question'].append( question['q'])\n",
    "                    consensus_after_validate['answers'].append(answers)\n",
    "                else:\n",
    "                    # no_consensus_after_validate.append(\n",
    "                    #     {'id': qid, 'context': text, 'question': question['q'], 'answers': answers,}\n",
    "                    #     #'annotations':question['answers'], 'validatedAnswers': question['validatedAnswers']}\n",
    "                    # )\n",
    "                    no_consensus_after_validate['id'].append(qid)\n",
    "                    no_consensus_after_validate['context'].append(text)\n",
    "                    no_consensus_after_validate['question'].append( question['q'])\n",
    "                    no_consensus_after_validate['answers'].append(answers)                    \n",
    "    return consensus_qa_items_stage_1, consensus_after_validate, no_consensus_after_validate\n"
   ]
  },
  {
   "cell_type": "code",
   "execution_count": 11,
   "metadata": {},
   "outputs": [],
   "source": [
    "train_consensus, train_consensus_after_validate, train_no_consensus = get_consus_stage_1_questions(train)\n",
    "dev_consensus, dev_consensus_after_validate, dev_no_consensus = get_consus_stage_1_questions(dev)\n",
    "test_consensus, test_consensus_after_validate, test_no_consensus = get_consus_stage_1_questions(test)"
   ]
  },
  {
   "cell_type": "code",
   "execution_count": 5,
   "metadata": {},
   "outputs": [],
   "source": [
    "questions = []\n",
    "for d in ds:\n",
    "    for _ in d['questions']:\n",
    "        _['text'] = d['text']\n",
    "        questions.append(_)"
   ]
  },
  {
   "cell_type": "code",
   "execution_count": 11,
   "metadata": {},
   "outputs": [],
   "source": [
    "qa_items = [_ for d in train for _ in d['questions']]"
   ]
  },
  {
   "cell_type": "code",
   "execution_count": 17,
   "metadata": {},
   "outputs": [
    {
     "name": "stdout",
     "output_type": "stream",
     "text": [
      "{'0.0': 76338, '0.33333333333299997': 14154, '0.2': 232, '0.25': 1481, '0.5': 6168, '1.0': 5528, '0.666666666667': 3540, '0.4': 92, '0.6': 26, '0.166666666667': 42, '0.75': 60, '0.125': 4, '0.14285714285700002': 2, '0.8': 4, '0.714285714286': 1, '0.8571428571430001': 1, '0.181818181818': 1}\n"
     ]
    }
   ],
   "source": [
    "answer_absents = np.array( [_['isAnswerAbsent'] for _ in qa_items] )\n",
    "a = set(answer_absents)\n",
    "ansp = list(a)\n",
    "b = {str(_):0 for _ in a}\n",
    "for _ in qa_items:\n",
    "    b[str(_['isAnswerAbsent'])] = b[str(_['isAnswerAbsent'])] + 1\n",
    "print(b)"
   ]
  },
  {
   "cell_type": "code",
   "execution_count": 23,
   "metadata": {},
   "outputs": [],
   "source": [
    "cons = [_['consensus'] for _ in qa_items]"
   ]
  },
  {
   "cell_type": "code",
   "execution_count": 24,
   "metadata": {},
   "outputs": [
    {
     "data": {
      "text/plain": [
       "{'noAnswer': True}"
      ]
     },
     "execution_count": 24,
     "metadata": {},
     "output_type": "execute_result"
    }
   ],
   "source": [
    "cons[9356]"
   ]
  },
  {
   "cell_type": "code",
   "execution_count": 22,
   "metadata": {},
   "outputs": [
    {
     "data": {
      "text/plain": [
       "{'q': 'wAs he deported',\n",
       " 'isQuestionBad': 0.2,\n",
       " 'consensus': {'noAnswer': True},\n",
       " 'answers': [{'sourcerAnswers': [{'noAnswer': True}]},\n",
       "  {'sourcerAnswers': [{'noAnswer': True}]},\n",
       "  {'sourcerAnswers': [{'s': 1623, 'e': 1650}]},\n",
       "  {'sourcerAnswers': [{'s': 776, 'e': 871}]},\n",
       "  {'sourcerAnswers': [{'noAnswer': True}]}],\n",
       " 'isAnswerAbsent': 0.6}"
      ]
     },
     "execution_count": 22,
     "metadata": {},
     "output_type": "execute_result"
    }
   ],
   "source": [
    "qa_items[1152]"
   ]
  },
  {
   "cell_type": "code",
   "execution_count": 21,
   "metadata": {},
   "outputs": [
    {
     "data": {
      "text/plain": [
       "array([  1152,   9356,  15503,  16308,  30919,  35748,  39666,  41812,\n",
       "        46751,  50068,  53192,  61999,  69653,  74374,  75998,  77771,\n",
       "        89394,  91791,  94228,  94326,  97475, 101776, 104188, 105328,\n",
       "       105672, 107313])"
      ]
     },
     "execution_count": 21,
     "metadata": {},
     "output_type": "execute_result"
    }
   ],
   "source": [
    "np.where(answer_absents == 0.6)[0]"
   ]
  },
  {
   "cell_type": "code",
   "execution_count": 6,
   "metadata": {},
   "outputs": [],
   "source": [
    "consensus_stage_1_questions = [_ for _ in questions if 'validatedAnswers' not in _]\n",
    "validate_questions = [_ for _ in questions if 'validatedAnswers' in _]"
   ]
  },
  {
   "cell_type": "code",
   "execution_count": 7,
   "metadata": {},
   "outputs": [
    {
     "name": "stdout",
     "output_type": "stream",
     "text": [
      "68003 51630\n"
     ]
    }
   ],
   "source": [
    "print(len(consensus_stage_1_questions), len(validate_questions))"
   ]
  },
  {
   "cell_type": "code",
   "execution_count": 8,
   "metadata": {},
   "outputs": [],
   "source": [
    "consensus_after_validate = [_  for _ in validate_questions if len(_['validatedAnswers']) <= 2] # 'consensus' in _]\n",
    "no_consensus_after_validate = [_  for _ in validate_questions if len(_['validatedAnswers']) > 2] "
   ]
  },
  {
   "cell_type": "code",
   "execution_count": 9,
   "metadata": {},
   "outputs": [
    {
     "name": "stdout",
     "output_type": "stream",
     "text": [
      "45240 6390\n"
     ]
    }
   ],
   "source": [
    "print(len(consensus_after_validate), len(no_consensus_after_validate))"
   ]
  },
  {
   "cell_type": "code",
   "execution_count": 38,
   "metadata": {},
   "outputs": [
    {
     "name": "stdout",
     "output_type": "stream",
     "text": [
      "{'isQuestionBad': 0.0, 'consensus': {'noAnswer': True}, 'validatedAnswers': [{'count': 1, 'noAnswer': True}, {'count': 1, 's': 1833, 'e': 1945}, {'count': 1, 's': 1810, 'e': 1945}], 'answers': [{'sourcerAnswers': [{'noAnswer': True}]}, {'sourcerAnswers': [{'s': 1810, 'e': 1945}]}, {'sourcerAnswers': [{'s': 1810, 'e': 1816}, {'s': 1819, 'e': 1826}, {'s': 1833, 'e': 1945}]}], 'q': 'what is the African National Congress ?', 'isAnswerAbsent': 0.33333333333299997, 'text': 'Johannesburg (CNN) -- Miffed by a visa delay that led the Dalai Lama to cancel a trip to South Africa, Archbishop Desmond Tutu lashed out at his government Tuesday, saying it had acted worse than apartheid regimes and had forgotten all that the nation stood for.\\n\\n\\n\\n\\n\\n\"When we used to apply for passports under the apartheid government, we never knew until the last moment what their decision was,\" Tutu said at a news conference. \"Our government is worse than the apartheid government because at least you were expecting it from the apartheid government.\\n\\n\\n\\n\\n\\n\"I have to say that I can\\'t believe this. I really can\\'t believe this,\" Tutu said. \"You have to wake me up and tell me this is actually happening here.\"\\n\\n\\n\\n\\n\\nThe Dalai Lama scrapped his planned trip to South Africa this week after the nation failed to issue him a visa in time, his spokesman said.\\n\\n\\n\\n\\n\\nVisa applications for him and his entourage were submitted to the South African High Commission in New Delhi, India, at the end of August, and original passports were submitted on September 20, more than two weeks ago, a statement on his website said.\\n\\n\\n\\n\\n\\nHowever, South Africa\\'s foreign affairs office said it did not refuse a visa.\\n\\n\\n\\n\\n\\n\"South Africa will not comment on the decision, because it is not our decision, it is his decision,\" according to spokesman Clayson Monyela, who said the visa application was still under consideration.\\n\\n\\n\\n\\n\\nThe Dalai Lama had been invited to the country to receive the Mahatma Gandhi International Award for Peace and Reconciliation and to speak at a number of events, including a lecture in honor of Tutu\\'s 80th birthday. Tutu and the Dalai Lama are recipients of the Nobel Peace Prize.\\n\\n\\n\\n\\n\\nTutu said he would pray for the defeat of South Africa\\'s government, led by the African National Congress (ANC), which is rooted in the fight against the system of apartheid, or legal racial separation, that was present in South Africa until 1994.\\n\\n\\n\\n\\n\\n\"You are disgraceful,\" Tutu said about the government. \"You are behaving in a way that is totally at variance with the things for which we stood.\"\\n\\n\\n\\n\\n\\nThe ANC plans to call on government officials to explain to South Africans why the visa process was delayed, spokesman Jackson Mtembu said. He said everyone was in the dark about this matter.\\n\\n\\n\\n\\n\\nBut he also suggested that Tutu calm down. A comparison to apartheid regimes, he said, was unfair.\\n\\n\\n\\n\\n\\nThis is not the first time the Dalai Lama has not been able to visit South Africa. In 2009, South Africa refused the Tibetan spiritual leader a visa to attend an international peace conference, saying it was not in the country\\'s interest for him to attend.\\n\\n\\n\\n\\n\\nIn refusing the 2009 application, South Africa said that if the Dalai Lama attended the conference, the focus would shift away from the 2010 World Cup, the global soccer championship it was hosting.\\n\\n\\n\\n\\n\\n\"We cannot allow focus to shift to China and Tibet,\" presidential spokesman Thabo Masebe said, adding that South Africa had gained much from its trading relationship with China.\\n\\n\\n\\n\\n\\nThe Dalai Lama fled Tibet in 1959 after a failed uprising against Chinese rule, and China pressures governments around the world to deny him any legitimacy.\\n\\n\\n\\n\\n\\nSpeculation surfaced Tuesday that this year\\'s visit was also affected by South Africa\\'s relationship with China.\\n\\n\\n\\n\\n\\nSouth African Vice President Kgalema Motlanthe visited Beijing last week and met with Chinese President Hu Jintao to discuss bolstering bilateral ties.\\n\\n\\n\\n\\n\\nMotlanthe said South Africa was ready to boost the strategic partnership between the two countries to a new stage, according to the official Chinese news agency Xinhua.\\n\\n\\n\\n\\n\\nBut Monyela said the application had nothing to do with China.\\n\\n\\n\\n\\n\\n\"We are a sovereign nation which takes decisions in our domestic interest,\" Monyela said.\\n\\n\\n\\n\\n\\nThe Dalai Lama posted a message on Twitter last week that said: \"Even if the Chinese leave nothing but ashes, Tibet will rise from these ashes as a free country even if it takes a long time to do so.\"\\n\\n\\n\\n\\n\\nKim Norgaard, CNN\\'s Johannesburg bureau chief, contributed to this report.'}\n"
     ]
    }
   ],
   "source": [
    "print(no_consensus_after_validate[0])"
   ]
  },
  {
   "cell_type": "code",
   "execution_count": 11,
   "metadata": {},
   "outputs": [
    {
     "data": {
      "image/png": "[encoded data removed]",
      "text/plain": [
       "<Figure size 432x288 with 1 Axes>"
      ]
     },
     "metadata": {},
     "output_type": "display_data"
    }
   ],
   "source": [
    "fig, ax = plt.subplots()\n",
    "\n",
    "size = 0.7\n",
    "vals = [len(consensus_stage_1_questions), len(consensus_after_validate), len(no_consensus_after_validate)]\n",
    "\n",
    "cmap = plt.get_cmap(\"tab20c\")\n",
    "outer_colors = cmap(np.arange(3)*4)\n",
    "\n",
    "def func(pct, allvals):\n",
    "    absolute = int(round(pct/100.*np.sum(allvals)))\n",
    "    return \"{:.1f}%\\n({:d} )\".format(pct, absolute)\n",
    "\n",
    "wedges, texts, autotexts = ax.pie(vals, radius=1, colors=outer_colors,\n",
    "       wedgeprops=dict(width=size, edgecolor='w'),\n",
    "       autopct=lambda pct: func(pct, vals),\n",
    "                textprops=dict(color=\"w\"))\n",
    "# ax.legend(wedges, [f\"{_}\" for _ in range(1, 4)],\n",
    "#           title=\"Number of Answers\",\n",
    "#           loc=\"center left\",\n",
    "#           bbox_to_anchor=(-0.3, 0, 0, 1))\n",
    "\n",
    "plt.setp(autotexts, size=8, weight=\"bold\")\n",
    "plt.tight_layout()\n",
    "# ax.set(aspect=\"equal\", title='Number of different answers')\n",
    "plt.savefig('newsqa_analysis/newsqa_number_of_items_with_answers.pdf', dpi=600, bbox_inches = 'tight', pad_inches=0)"
   ]
  },
  {
   "cell_type": "code",
   "execution_count": 12,
   "metadata": {},
   "outputs": [],
   "source": [
    "def print_answers(item):\n",
    "    print(item['q'])\n",
    "    print(len(item['text'].split()))\n",
    "    print('----sourcer------')\n",
    "    for ans in item['answers']:\n",
    "        print(ans)\n",
    "        if 's' in ans['sourcerAnswers'][0]:\n",
    "            for _ans in ans['sourcerAnswers']:\n",
    "                print(item['text'][_ans['s']:_ans['e']])\n",
    "    if 'validatedAnswers' not in item:\n",
    "        return        \n",
    "    print('----validate------')\n",
    "    for ans in item['validatedAnswers']:\n",
    "        print(ans)\n",
    "        if 's' in ans:\n",
    "            print(item['text'][ans['s']:ans['e']])\n"
   ]
  },
  {
   "cell_type": "code",
   "execution_count": 13,
   "metadata": {},
   "outputs": [
    {
     "name": "stdout",
     "output_type": "stream",
     "text": [
      "According to Joan Rivers who was \"totally devoted\"?\n",
      "635\n",
      "----sourcer------\n",
      "{'sourcerAnswers': [{'s': 1623, 'e': 1639}, {'s': 1642, 'e': 1654}]}\n",
      "totally devoted \n",
      "each other. \n",
      "{'sourcerAnswers': [{'s': 1769, 'e': 1809}, {'s': 353, 'e': 364}, {'s': 390, 'e': 402}]}\n",
      "He doted on what she said, she doted on \n",
      "Richardson \n",
      "Liam Neeson \n",
      "{'sourcerAnswers': [{'s': 1642, 'e': 1654}]}\n",
      "each other. \n",
      "----validate------\n",
      "{'count': 2, 'noAnswer': True}\n"
     ]
    }
   ],
   "source": [
    "print_answers(consensus_after_validate[300])\n"
   ]
  },
  {
   "cell_type": "code",
   "execution_count": 14,
   "metadata": {},
   "outputs": [],
   "source": [
    "unswerable_only_after_validation = [_  for _ in consensus_after_validate if 's' not in _['consensus']]"
   ]
  },
  {
   "cell_type": "code",
   "execution_count": 15,
   "metadata": {},
   "outputs": [
    {
     "data": {
      "text/plain": [
       "6012"
      ]
     },
     "execution_count": 15,
     "metadata": {},
     "output_type": "execute_result"
    }
   ],
   "source": [
    "len(unswerable_only_after_validation)"
   ]
  },
  {
   "cell_type": "code",
   "execution_count": 16,
   "metadata": {},
   "outputs": [
    {
     "data": {
      "text/plain": [
       "0.050253692543027424"
      ]
     },
     "execution_count": 16,
     "metadata": {},
     "output_type": "execute_result"
    }
   ],
   "source": [
    "6012/len(questions)"
   ]
  },
  {
   "cell_type": "code",
   "execution_count": 17,
   "metadata": {},
   "outputs": [],
   "source": [
    "answer_after_validation = [_  for _ in consensus_after_validate if 's' in _['consensus']]"
   ]
  },
  {
   "cell_type": "code",
   "execution_count": 18,
   "metadata": {},
   "outputs": [
    {
     "name": "stdout",
     "output_type": "stream",
     "text": [
      "Is the rating similar to the 100 day mark?\n",
      "369\n",
      "----sourcer------\n",
      "{'sourcerAnswers': [{'noAnswer': True}]}\n",
      "{'sourcerAnswers': [{'s': 1953, 'e': 1961}, {'s': 1968, 'e': 2004}, {'s': 2007, 'e': 2030}]}\n",
      "current \n",
      "certainly does not indicate that he \n",
      "out of the woods yet.\"\n",
      "\n",
      "{'sourcerAnswers': [{'s': 620, 'e': 646}, {'s': 652, 'e': 698}]}\n",
      "Obama getting fairly high \n",
      "on most of the issues he has handled so far,\" \n",
      "----validate------\n",
      "{'count': 2, 'noAnswer': True}\n"
     ]
    }
   ],
   "source": [
    "print_answers(unswerable_only_after_validation[300])\n"
   ]
  },
  {
   "cell_type": "code",
   "execution_count": 19,
   "metadata": {},
   "outputs": [
    {
     "name": "stdout",
     "output_type": "stream",
     "text": [
      "When was the 6.3 magnitude quake reported?\n",
      "281\n",
      "----sourcer------\n",
      "{'sourcerAnswers': [{'s': 137, 'e': 145}]}\n",
      "Monday, \n",
      "{'sourcerAnswers': [{'s': 1099, 'e': 1114}]}\n",
      "1 p.m. Monday.\n",
      "\n",
      "{'sourcerAnswers': [{'s': 1177, 'e': 1182}]}\n",
      "2:20 \n",
      "----validate------\n",
      "{'count': 2, 's': 1099, 'e': 1114}\n",
      "1 p.m. Monday.\n",
      "\n"
     ]
    }
   ],
   "source": [
    "print_answers(answer_after_validation[300])\n"
   ]
  },
  {
   "cell_type": "code",
   "execution_count": 39,
   "metadata": {},
   "outputs": [],
   "source": [
    "stage1_badquestions = [_ for _ in consensus_stage_1_questions if 'isQuestionBad' in _ and _['isQuestionBad'] >= 0.5]\n",
    "stage1_good_questions_no_answer = [_ for _ in consensus_stage_1_questions if 'noAnswer' in _['consensus'] and _['consensus']['noAnswer']  and not ('isQuestionBad' in _ and _['isQuestionBad'] != 0)]"
   ]
  },
  {
   "cell_type": "code",
   "execution_count": 40,
   "metadata": {},
   "outputs": [
    {
     "name": "stdout",
     "output_type": "stream",
     "text": [
      "# bad questions: 11377; # good questions with no answer: 10530\n"
     ]
    }
   ],
   "source": [
    "print(f\"# bad questions: {len(stage1_badquestions)}; # good questions with no answer: {len(stage1_good_questions_no_answer)}\")"
   ]
  },
  {
   "cell_type": "code",
   "execution_count": 43,
   "metadata": {},
   "outputs": [
    {
     "data": {
      "text/plain": [
       "{'q': 'What could be more militant than a commando?',\n",
       " 'consensus': {'noAnswer': True},\n",
       " 'answers': [{'sourcerAnswers': [{'noAnswer': True}]},\n",
       "  {'sourcerAnswers': [{'noAnswer': True}]}],\n",
       " 'isAnswerAbsent': 1.0,\n",
       " 'text': '(CNN)  -- One Australian soldier, three civilians and Taliban militants were killed early Friday during heavy fighting in southern Afghanistan, according to information from Australian and NATO officials.\\n\\nFour Australian troops have now died in the conflict in Afghanistan.\\n\\nThe incident occurred in Tarin Kowt in Uruzgan province, where Taliban militants killed an Australian commando, the Australian Defence Ministry said.\\n\\nThe 26-year-old commando -- Pvt. Luke Worsley of Sydney -- served with the Special Operations Task Group. This is the fourth Australian troop to die in the Afghan conflict.\\n\\n\"The action in which Private Worsley died only concluded in the last few hours and was characterized by heavy, close quarter fighting. The SOTG was conducting an operation to clear an identified Taliban bomb making facility in Uruzgan province, when the soldier was hit by small arms fire,\" Chief of the Defence Force Air Chief Marshal Angus Houston said.\\n\\nNATO\\'s International Security Assistance Force said \"a significant number of Taliban insurgents were killed or captured as part of the operation. Taliban insurgents initiated the firefight which lasted several hours.\"\\n\\nGen. Carlos Branco, ISAF spokesman, said it is not known how the civilians, two women and a child, died.\\n\\n\"However, we do know that the insurgents fired upon ISAF soldiers from the compound in which the Afghan civilians (two women and one child) were found after the fight. ISAF makes all effort to prevent losses of innocent civilian lives.\"  E-mail to a friend'}"
      ]
     },
     "execution_count": 43,
     "metadata": {},
     "output_type": "execute_result"
    }
   ],
   "source": [
    "stage1_good_questions_no_answer[500]"
   ]
  },
  {
   "cell_type": "code",
   "execution_count": 1,
   "metadata": {},
   "outputs": [],
   "source": [
    "import json\n",
    "import re\n",
    "import numpy as numpy\n",
    "import matplotlib.pyplot as plt\n",
    "import seaborn as sns\n",
    "import pandas\n",
    "import numpy as np\n",
    "import tqdm\n",
    "from nltk import wordpunct_tokenize\n",
    "import torch"
   ]
  },
  {
   "cell_type": "code",
   "execution_count": 2,
   "metadata": {},
   "outputs": [],
   "source": [
    "newsqa = json.load(open(\"data/newsqa/combined-newsqa-data-v1.json\"))['data']\n",
    "    \n",
    "dataset = {'train':[], 'dev':[], 'test':[]}\n",
    "\n",
    "for item in newsqa:\n",
    "    dataset[item['type']].append(item)"
   ]
  },
  {
   "cell_type": "code",
   "execution_count": 3,
   "metadata": {},
   "outputs": [
    {
     "data": {
      "text/plain": [
       "662"
      ]
     },
     "execution_count": 3,
     "metadata": {},
     "output_type": "execute_result"
    }
   ],
   "source": [
    "len(wordpunct_tokenize(dataset['test'][0]['text']))"
   ]
  },
  {
   "cell_type": "code",
   "execution_count": 4,
   "metadata": {},
   "outputs": [
    {
     "name": "stderr",
     "output_type": "stream",
     "text": [
      "100%|██████████| 11469/11469 [00:03<00:00, 3469.74it/s]\n",
      "100%|██████████| 638/638 [00:00<00:00, 3482.06it/s]\n",
      "100%|██████████| 637/637 [00:00<00:00, 3386.01it/s]\n"
     ]
    }
   ],
   "source": [
    "context_word_cnt = {}\n",
    "cons_answer_num_cnt = {}\n",
    "ncons_answer_num_cnt = {}\n",
    "answer_word_cnt = {}\n",
    "\n",
    "for dataset_subset in dataset.keys():\n",
    "    context_word_cnt[dataset_subset] = []\n",
    "    ncons_answer_num_cnt[dataset_subset] = []\n",
    "    cons_answer_num_cnt[dataset_subset] = []\n",
    "    answer_word_cnt[dataset_subset] = []\n",
    "\n",
    "    for i, item in enumerate(tqdm.tqdm(dataset[dataset_subset])):\n",
    "        src = item['text']\n",
    "        storyid = item['storyId']\n",
    "        tokenized_src = wordpunct_tokenize(src)\n",
    "        context_word_cnt[dataset_subset].append(len(tokenized_src))\n",
    "        for j, question in enumerate(item['questions']):\n",
    "            q_ans = []\n",
    "            if 'validatedAnswers' in question and len(question['validatedAnswers']) <= 2:                  \n",
    "                consensus = question['consensus']\n",
    "                consensus_ans_text = None\n",
    "                all_ans_text = []\n",
    "                ans_idx = []\n",
    "                if 's' not in consensus or 'e' not in consensus:\n",
    "                    no_ans = True\n",
    "                else:\n",
    "                    consensus_ans_text = src[consensus['s']:consensus['e']].strip()\n",
    "                # aggregation after validation.            \n",
    "                for answer in question['answers']:\n",
    "                    for ans in answer['sourcerAnswers']:\n",
    "                        q_ans.append(ans)\n",
    "                        if 's' in ans and 'e' in ans:\n",
    "                            ans_t = wordpunct_tokenize(src[ans['s']:ans['e']])\n",
    "                            answer_word_cnt[dataset_subset].append(len(ans_t))\n",
    "                ncons_answer_num_cnt[dataset_subset].append(len(q_ans))\n",
    "            elif 'validatedAnswers' not in question:\n",
    "                for answer in question['answers']:\n",
    "                    for ans in answer['sourcerAnswers']:\n",
    "                        q_ans.append(ans)\n",
    "                        if 's' in ans and 'e' in ans:\n",
    "                            ans_t = wordpunct_tokenize(src[ans['s']:ans['e']])\n",
    "                            answer_word_cnt[dataset_subset].append(len(ans_t))\n",
    "                cons_answer_num_cnt[dataset_subset].append(len(q_ans))\n",
    "    \n",
    "\n",
    "                \n"
   ]
  },
  {
   "cell_type": "code",
   "execution_count": 5,
   "metadata": {},
   "outputs": [],
   "source": [
    "rotation = 0\n",
    "xtick_size=16\n",
    "xlabel_size=16\n",
    "ylabel_size=16\n",
    "legend_size=15"
   ]
  },
  {
   "cell_type": "code",
   "execution_count": 9,
   "metadata": {},
   "outputs": [
    {
     "data": {
      "image/png": "[encoded data removed]",
      "text/plain": [
       "<Figure size 648x432 with 1 Axes>"
      ]
     },
     "metadata": {
      "needs_background": "light"
     },
     "output_type": "display_data"
    }
   ],
   "source": [
    "\n",
    "labels = ['Primary-C', 'Primary-NC', 'Test-C', 'Test-NC']\n",
    "widths = [0.55] * len(labels)\n",
    "colors = ['seagreen'] * len(labels)\n",
    "hatch_patterns = ['/'] * len(labels)\n",
    "fig, axs = plt.subplots(figsize=(9, 6))\n",
    "bplot = axs.boxplot(\n",
    "    [cons_answer_num_cnt['train'], ncons_answer_num_cnt['train'], cons_answer_num_cnt['test'], ncons_answer_num_cnt['test']],\n",
    "    patch_artist=True,\n",
    "    labels=labels,\n",
    "    boxprops={'alpha':0.7},\n",
    "    flierprops={'marker':'o', 'markerfacecolor':'darkblue', 'color':'black'},\n",
    "    meanprops={'marker':'D', 'markerfacecolor':'gold'},\n",
    "    medianprops={'linestyle':'--', 'color':'red'},\n",
    "    showmeans=True,\n",
    "    widths=widths,\n",
    "    showfliers=True #False\n",
    ")\n",
    "for patch, color, hatch in zip(bplot['boxes'], colors, hatch_patterns):\n",
    "    patch.set_facecolor(color)\n",
    "    patch.set_hatch(hatch)\n",
    "axs.set_ylim(0, 15)\n",
    "# control fliers\n",
    "fliers = bplot['fliers']\n",
    "for fly in fliers:\n",
    "    fdata = fly.get_data()    \n",
    "    fly.set_data([fdata[0][0]],fdata[1][:8])\n",
    "\n",
    "plt.xticks(rotation=rotation, fontsize=xtick_size)\n",
    "plt.yticks(fontsize=xtick_size)\n",
    "# Add some text for labels, title and custom x-axis tick labels, etc.\n",
    "axs.set_ylabel('#answer annotations', fontsize=18)\n",
    "plt.savefig('number_candidates.pdf', dpi=600, bbox_inches='tight', pad_inches=0)\n",
    "plt.show()\n"
   ]
  },
  {
   "cell_type": "code",
   "execution_count": 6,
   "metadata": {},
   "outputs": [],
   "source": [
    "dataset_subset = 'test' #  'train' # \n",
    "model_name = \"bert-base-uncased\" #   'facebook/bart-base' # \"bert-large-uncased\" # \"roberta-base\" # \n",
    "device_no=4\n",
    "qa_device = 5\n",
    "model_name_in_path = model_name.replace('/', '-')\n",
    "all_question_candidate_answers_with_null_candidate = torch.load(f\"{dataset_subset}_all_question_candidate_answers_qa_no_noanswer_add_null_{model_name_in_path}.pt\")  \n"
   ]
  },
  {
   "cell_type": "code",
   "execution_count": 7,
   "metadata": {},
   "outputs": [],
   "source": [
    "answer_correct_ness = [float(_[1])  for d in all_question_candidate_answers_with_null_candidate for _ in d[3]]\n",
    "gt_answer_correct_ness = [float(_[1]) for d in all_question_candidate_answers_with_null_candidate for i, _ in enumerate(d[3]) if i in d[4]]\n",
    "wrong_answer_correct_ness = [float(_[1]) for d in all_question_candidate_answers_with_null_candidate for i, _ in enumerate(d[3]) if i not in d[4]]"
   ]
  },
  {
   "cell_type": "code",
   "execution_count": 8,
   "metadata": {},
   "outputs": [],
   "source": [
    "answer_confidence = [float(_) for d in all_question_candidate_answers_with_null_candidate for _ in d[-3]]\n",
    "gt_answer_confidence = [float(_) for d in all_question_candidate_answers_with_null_candidate for i, _ in enumerate(d[-3]) if i in d[4]]\n",
    "wrong_answer_confidence = [float(_) for d in all_question_candidate_answers_with_null_candidate for i, _ in enumerate(d[-3]) if i not in d[4]]"
   ]
  },
  {
   "cell_type": "code",
   "execution_count": 9,
   "metadata": {},
   "outputs": [
    {
     "name": "stdout",
     "output_type": "stream",
     "text": [
      "Spearmans correlation: 0.325\n"
     ]
    }
   ],
   "source": [
    "from scipy.stats import spearmanr\n",
    "corr, _ = spearmanr(answer_confidence, answer_correct_ness)\n",
    "print('Spearmans correlation: %.3f' % corr)"
   ]
  },
  {
   "cell_type": "code",
   "execution_count": 88,
   "metadata": {},
   "outputs": [
    {
     "data": {
      "text/plain": [
       "(array([3581.,  447.,  248.,  178.,  176.,  150.,  115.,   90.,  107.,\n",
       "          82.,   64.,  100.,   94.,   74.,   62.,   58.,   51.,   55.,\n",
       "          51.,   58.,   77.,   54.,   46.,   53.,   58.,   53.,   58.,\n",
       "          59.,   62.,   61.,   64.,   60.,   78.,   56.,   57.,   73.,\n",
       "          57.,  101.,   67.,   95.,   80.,   73.,   54.,   92.,   68.,\n",
       "         113.,   85.,  114.,  120.,  199.]),\n",
       " array([2.52803467e-08, 1.99707219e-02, 3.99414186e-02, 5.99121153e-02,\n",
       "        7.98828119e-02, 9.98535086e-02, 1.19824205e-01, 1.39794902e-01,\n",
       "        1.59765599e-01, 1.79736295e-01, 1.99706992e-01, 2.19677689e-01,\n",
       "        2.39648385e-01, 2.59619082e-01, 2.79589779e-01, 2.99560475e-01,\n",
       "        3.19531172e-01, 3.39501868e-01, 3.59472565e-01, 3.79443262e-01,\n",
       "        3.99413958e-01, 4.19384655e-01, 4.39355352e-01, 4.59326048e-01,\n",
       "        4.79296745e-01, 4.99267442e-01, 5.19238138e-01, 5.39208835e-01,\n",
       "        5.59179532e-01, 5.79150228e-01, 5.99120925e-01, 6.19091622e-01,\n",
       "        6.39062318e-01, 6.59033015e-01, 6.79003712e-01, 6.98974408e-01,\n",
       "        7.18945105e-01, 7.38915802e-01, 7.58886498e-01, 7.78857195e-01,\n",
       "        7.98827892e-01, 8.18798588e-01, 8.38769285e-01, 8.58739982e-01,\n",
       "        8.78710678e-01, 8.98681375e-01, 9.18652072e-01, 9.38622768e-01,\n",
       "        9.58593465e-01, 9.78564162e-01, 9.98534858e-01]),\n",
       " <BarContainer object of 50 artists>)"
      ]
     },
     "execution_count": 88,
     "metadata": {},
     "output_type": "execute_result"
    },
    {
     "data": {
      "image/png": "[encoded data removed]",
      "text/plain": [
       "<Figure size 432x288 with 1 Axes>"
      ]
     },
     "metadata": {
      "needs_background": "light"
     },
     "output_type": "display_data"
    }
   ],
   "source": [
    "plt.hist(answer_correct_ness, bins=50, alpha=0.3)\n",
    "plt.hist(answer_confidence, bins=50, alpha=0.3)"
   ]
  },
  {
   "cell_type": "code",
   "execution_count": 16,
   "metadata": {},
   "outputs": [
    {
     "data": {
      "image/png": "[encoded data removed]",
      "text/plain": [
       "<Figure size 432x288 with 1 Axes>"
      ]
     },
     "metadata": {
      "needs_background": "light"
     },
     "output_type": "display_data"
    }
   ],
   "source": [
    "plt.hist(wrong_answer_correct_ness, alpha=0.3, bins=50, density=True, cumulative=True, color='#fe7f2d', label='Wrong Answer')\n",
    "plt.hist(gt_answer_correct_ness, alpha=0.6, bins=50, density=True, cumulative=True, color='#6a994e', label='Correct Answer')\n",
    "plt.xlabel('Answer Correctness', fontsize=xlabel_size)\n",
    "plt.grid()\n",
    "plt.legend(fontsize=legend_size)\n",
    "plt.xticks(fontsize=xtick_size)\n",
    "plt.yticks(fontsize=xtick_size)\n",
    "plt.xlim([0.0, 1.0])\n",
    "plt.ylim([0.0, 1.02])\n",
    "plt.savefig('answer_correctness_distribution.pdf', dpi=600, bbox_inches='tight', pad_inches=0)\n",
    "plt.show()"
   ]
  },
  {
   "cell_type": "code",
   "execution_count": 20,
   "metadata": {},
   "outputs": [
    {
     "data": {
      "image/png": "[encoded data removed]",
      "text/plain": [
       "<Figure size 432x288 with 1 Axes>"
      ]
     },
     "metadata": {
      "needs_background": "light"
     },
     "output_type": "display_data"
    }
   ],
   "source": [
    "\n",
    "plt.hist(wrong_answer_confidence, alpha=0.3, bins=50, density=True, cumulative=True, color='#fe7f2d', label='Wrong Answer')\n",
    "plt.hist(gt_answer_confidence, alpha=0.6, bins=50, density=True, cumulative=True, color='#6a994e', label='Correct Answer')\n",
    "plt.xlabel('Answer Confidence', fontsize=xlabel_size)\n",
    "plt.grid()\n",
    "plt.legend(loc=4,fontsize=legend_size)\n",
    "plt.xticks(fontsize=xtick_size)\n",
    "plt.yticks(fontsize=xtick_size)\n",
    "plt.xlim([0.0, 1.0])\n",
    "plt.ylim([0.0, 1.02])\n",
    "plt.savefig('answer_confidence_distribution.pdf', dpi=600, bbox_inches='tight', pad_inches=0)\n",
    "plt.show()"
   ]
  },
  {
   "cell_type": "code",
   "execution_count": 103,
   "metadata": {},
   "outputs": [
    {
     "data": {
      "text/plain": [
       "<matplotlib.collections.PathCollection at 0x7f037fbbb760>"
      ]
     },
     "execution_count": 103,
     "metadata": {},
     "output_type": "execute_result"
    },
    {
     "data": {
      "image/png": "[encoded data removed]",
      "text/plain": [
       "<Figure size 432x288 with 1 Axes>"
      ]
     },
     "metadata": {
      "needs_background": "light"
     },
     "output_type": "display_data"
    }
   ],
   "source": [
    "plt.scatter(gt_answer_correct_ness, gt_answer_confidence, alpha=0.5, c='#52b69a')"
   ]
  },
  {
   "cell_type": "code",
   "execution_count": 115,
   "metadata": {},
   "outputs": [
    {
     "data": {
      "text/plain": [
       "(array([[200.,  19.,  12.,   6.,  21.,  17.,  13.,  26.,  16.,  22.],\n",
       "        [ 30.,   1.,   1.,   3.,   0.,   1.,   2.,   5.,   1.,   2.],\n",
       "        [ 23.,   4.,   2.,   3.,   0.,   4.,   1.,   0.,   2.,   4.],\n",
       "        [ 12.,   4.,   0.,   1.,   1.,   1.,   0.,   3.,   1.,   2.],\n",
       "        [ 16.,   5.,   2.,   2.,   1.,   0.,   2.,   2.,   0.,   1.],\n",
       "        [ 10.,   3.,   8.,   7.,   2.,   0.,   1.,   0.,   0.,   0.],\n",
       "        [ 17.,   3.,   3.,   1.,   1.,   2.,   0.,   1.,   2.,   3.],\n",
       "        [ 19.,   3.,   3.,   5.,   1.,   5.,   2.,   2.,   6.,   8.],\n",
       "        [ 66.,  14.,   4.,   7.,   6.,   6.,   5.,   5.,  10.,  12.],\n",
       "        [715., 133., 145., 101., 103., 124., 157., 204., 186., 362.]]),\n",
       " array([0.00137275, 0.1010504 , 0.20072805, 0.30040571, 0.40008336,\n",
       "        0.49976101, 0.59943866, 0.69911632, 0.79879397, 0.89847162,\n",
       "        0.99814928]),\n",
       " array([2.37164016e-07, 9.98536993e-02, 1.99707161e-01, 2.99560623e-01,\n",
       "        3.99414086e-01, 4.99267548e-01, 5.99121010e-01, 6.98974472e-01,\n",
       "        7.98827934e-01, 8.98681396e-01, 9.98534858e-01]),\n",
       " <matplotlib.collections.QuadMesh at 0x7f037f312730>)"
      ]
     },
     "execution_count": 115,
     "metadata": {},
     "output_type": "execute_result"
    },
    {
     "data": {
      "image/png": "[encoded data removed]",
      "text/plain": [
       "<Figure size 432x288 with 1 Axes>"
      ]
     },
     "metadata": {
      "needs_background": "light"
     },
     "output_type": "display_data"
    }
   ],
   "source": [
    "plt.hist2d(gt_answer_correct_ness, gt_answer_confidence)"
   ]
  },
  {
   "cell_type": "code",
   "execution_count": 79,
   "metadata": {},
   "outputs": [],
   "source": [
    "answer_confidence = [float(_) for _ in answer_confidence]"
   ]
  },
  {
   "cell_type": "code",
   "execution_count": 80,
   "metadata": {},
   "outputs": [
    {
     "data": {
      "text/plain": [
       "(array([4630.,  544.,  394.,  273.,  288.,  293.,  315.,  393.,  367.,\n",
       "         631.]),\n",
       " array([2.52803467e-08, 9.98535086e-02, 1.99706992e-01, 2.99560475e-01,\n",
       "        3.99413958e-01, 4.99267442e-01, 5.99120925e-01, 6.98974408e-01,\n",
       "        7.98827892e-01, 8.98681375e-01, 9.98534858e-01]),\n",
       " <BarContainer object of 10 artists>)"
      ]
     },
     "execution_count": 80,
     "metadata": {},
     "output_type": "execute_result"
    },
    {
     "data": {
      "image/png": "[encoded data removed]",
      "text/plain": [
       "<Figure size 432x288 with 1 Axes>"
      ]
     },
     "metadata": {
      "needs_background": "light"
     },
     "output_type": "display_data"
    }
   ],
   "source": [
    "plt.hist(answer_confidence)"
   ]
  },
  {
   "cell_type": "code",
   "execution_count": 21,
   "metadata": {},
   "outputs": [],
   "source": [
    "from sklearn import svm, datasets\n",
    "from sklearn.metrics import roc_curve, auc\n",
    "from sklearn.model_selection import train_test_split\n",
    "from sklearn.preprocessing import label_binarize\n",
    "from sklearn.multiclass import OneVsRestClassifier\n",
    "from sklearn.metrics import roc_auc_score"
   ]
  },
  {
   "cell_type": "code",
   "execution_count": 22,
   "metadata": {},
   "outputs": [],
   "source": [
    "answer_labels = np.array([i in d[4] for d in all_question_candidate_answers_with_null_candidate for i in range(len(d[-3]))])"
   ]
  },
  {
   "cell_type": "code",
   "execution_count": 23,
   "metadata": {},
   "outputs": [
    {
     "name": "stdout",
     "output_type": "stream",
     "text": [
      "0.0 0.700492991348696\n",
      "0.05 0.7338948989116774\n",
      "0.1 0.7385438666478934\n",
      "0.15000000000000002 0.7414086007206813\n",
      "0.2 0.7432490887188873\n",
      "0.25 0.7445759870256514\n",
      "0.30000000000000004 0.7453586588653702\n",
      "0.35000000000000003 0.7456791065012541\n",
      "0.4 0.7459246569984825\n",
      "0.45 0.7466313235608538\n",
      "0.5 0.7467194205868702\n",
      "0.55 0.7470422474617107\n",
      "0.6000000000000001 0.7473707128069544\n",
      "0.65 0.7466897941730156\n",
      "0.7000000000000001 0.7457458555612918\n",
      "0.75 0.7440193754791071\n",
      "0.8 0.7420466278687754\n",
      "0.8500000000000001 0.7386772995833398\n",
      "0.9 0.7345307097823877\n",
      "0.9500000000000001 0.7290826436799591\n"
     ]
    }
   ],
   "source": [
    "for _x in np.arange(0.0, 1.0, 0.05):\n",
    "    answer_scores_q = _x*np.array(answer_confidence) + (1-_x)*np.array(answer_correct_ness)\n",
    "    fpr_q, tpr_q, _ = roc_curve(answer_labels, answer_scores_q)\n",
    "    roc_auc_q = auc(fpr_q, tpr_q)\n",
    "    print(_x, roc_auc_q)"
   ]
  },
  {
   "cell_type": "code",
   "execution_count": 25,
   "metadata": {},
   "outputs": [
    {
     "data": {
      "image/png": "[encoded data removed]",
      "text/plain": [
       "<Figure size 432x288 with 1 Axes>"
      ]
     },
     "metadata": {
      "needs_background": "light"
     },
     "output_type": "display_data"
    }
   ],
   "source": [
    "answer_confidence = np.array(answer_confidence)\n",
    "fpr, tpr, _ = roc_curve(answer_labels, answer_confidence)\n",
    "roc_auc = auc(fpr, tpr)\n",
    "\n",
    "answer_correct_ness = np.array(answer_correct_ness)\n",
    "fpr_c, tpr_c, _ = roc_curve(answer_labels, answer_correct_ness)\n",
    "roc_auc_c = auc(fpr_c, tpr_c)\n",
    "\n",
    "answer_scores_s = (answer_confidence+answer_correct_ness)/2\n",
    "fpr_s, tpr_s, _ = roc_curve(answer_labels, answer_scores_s)\n",
    "roc_auc_s = auc(fpr_s, tpr_s)\n",
    "\n",
    "answer_scores_q = np.sqrt(answer_confidence*answer_correct_ness)\n",
    "fpr_q, tpr_q, _ = roc_curve(answer_labels, answer_scores_q)\n",
    "roc_auc_q = auc(fpr_q, tpr_q)\n",
    "\n",
    "\n",
    "# Compute micro-average ROC curve and ROC area\n",
    "# fpr[\"micro\"], tpr[\"micro\"], _ = roc_curve(answer_labels, answer_confidence)\n",
    "# roc_auc[\"micro\"] = auc(fpr[\"micro\"], tpr[\"micro\"])\n",
    "\n",
    "plt.figure()\n",
    "lw = 2\n",
    "plt.plot(\n",
    "    fpr_c,\n",
    "    tpr_c,\n",
    "    color=\"#6a994e\",\n",
    "    lw=lw,\n",
    "    ls='--',\n",
    "    alpha=0.8,\n",
    "    label=\"AC (area = %0.2f)\" % roc_auc_c,\n",
    ")\n",
    "plt.plot(\n",
    "    fpr,\n",
    "    tpr,\n",
    "    color=\"#fe7f2d\",\n",
    "    lw=lw,\n",
    "    ls=':',\n",
    "    alpha=0.8,\n",
    "    label=\"AF (area = %0.2f)\" % roc_auc,\n",
    ")\n",
    "plt.plot(\n",
    "    fpr_s,\n",
    "    tpr_s,\n",
    "    color=\"#6a4c93\",\n",
    "    lw=lw,\n",
    "    ls='-',\n",
    "    alpha=0.6,\n",
    "    label=\"AC+AF (area = %0.2f)\" % roc_auc_s,\n",
    ")\n",
    "# plt.plot(\n",
    "#     fpr_q,\n",
    "#     tpr_q,\n",
    "#     color=\"#fe7f2d\",\n",
    "#     lw=lw,\n",
    "#     ls=':',\n",
    "#     alpha=0.8,\n",
    "#     label=\"AC*AF (area = %0.2f)\" % roc_auc_q,\n",
    "# )\n",
    "plt.plot([0, 1], [0, 1], color=\"navy\", lw=lw, linestyle=\"--\")\n",
    "plt.xlim([0.0, 1.0])\n",
    "plt.ylim([0.0, 1.02])\n",
    "plt.xlabel(\"False Positive Rate\", fontsize=xlabel_size)\n",
    "plt.ylabel(\"True Positive Rate\", fontsize=ylabel_size)\n",
    "# plt.title(\"Receiver operating characteristic example\")\n",
    "plt.legend(loc=\"lower right\", fontsize=legend_size)\n",
    "plt.xticks(fontsize=xtick_size)\n",
    "plt.yticks(fontsize=xtick_size)\n",
    "plt.tight_layout()\n",
    "plt.savefig('roc_curve.pdf', dpi=600, bbox_inches='tight', pad_inches=0)\n",
    "plt.show()"
   ]
  },
  {
   "cell_type": "code",
   "execution_count": null,
   "metadata": {},
   "outputs": [],
   "source": []
  }
 ],
 "metadata": {
  "kernelspec": {
   "display_name": "Python 3.8.8 ('qgenv')",
   "language": "python",
   "name": "python3"
  },
  "language_info": {
   "codemirror_mode": {
    "name": "ipython",
    "version": 3
   },
   "file_extension": ".py",
   "mimetype": "text/x-python",
   "name": "python",
   "nbconvert_exporter": "python",
   "pygments_lexer": "ipython3",
   "version": "3.8.8"
  },
  "orig_nbformat": 4,
  "vscode": {
   "interpreter": {
    "hash": "1e34c16e4df8892777ca66302c3f06a8d376cf9d4f56d86312236daa28e8d5ab"
   }
  }
 },
 "nbformat": 4,
 "nbformat_minor": 2
}
